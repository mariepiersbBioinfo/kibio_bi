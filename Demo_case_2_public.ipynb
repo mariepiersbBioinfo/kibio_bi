{
  "nbformat": 4,
  "nbformat_minor": 0,
  "metadata": {
    "colab": {
      "provenance": [],
      "include_colab_link": true
    },
    "kernelspec": {
      "name": "python3",
      "display_name": "Python 3"
    },
    "language_info": {
      "name": "python"
    }
  },
  "cells": [
    {
      "cell_type": "markdown",
      "metadata": {
        "id": "view-in-github",
        "colab_type": "text"
      },
      "source": [
        "<a href=\"https://colab.research.google.com/github/mariepiersbBioinfo/kibio_bi/blob/main/Demo_case_2_public.ipynb\" target=\"_parent\"><img src=\"https://colab.research.google.com/assets/colab-badge.svg\" alt=\"Open In Colab\"/></a>"
      ]
    },
    {
      "cell_type": "markdown",
      "source": [
        "### Install Eland librairy compatible with actual Kibio.science version"
      ],
      "metadata": {
        "id": "KHxVU6jVBGtH"
      }
    },
    {
      "cell_type": "code",
      "execution_count": null,
      "metadata": {
        "id": "tb87_JPVXHLJ"
      },
      "outputs": [],
      "source": [
        "!pip install eland==7.14.0b1\n",
        "\n",
        "import eland as ed"
      ]
    },
    {
      "cell_type": "markdown",
      "source": [
        "## Install most recent version of Pandas (default on Collab is 1.3.5)"
      ],
      "metadata": {
        "id": "C47kR762_kk0"
      }
    },
    {
      "cell_type": "code",
      "source": [
        "\n",
        "\n",
        "import pandas as pd\n",
        "\n",
        "pd.__version__"
      ],
      "metadata": {
        "colab": {
          "base_uri": "https://localhost:8080/",
          "height": 36
        },
        "id": "EaHIVt2r_aTZ",
        "outputId": "bd2880fe-68ed-4835-c5da-d5a697252ed5"
      },
      "execution_count": null,
      "outputs": [
        {
          "output_type": "execute_result",
          "data": {
            "text/plain": [
              "'1.3.5'"
            ],
            "application/vnd.google.colaboratory.intrinsic+json": {
              "type": "string"
            }
          },
          "metadata": {},
          "execution_count": 1
        }
      ]
    },
    {
      "cell_type": "markdown",
      "source": [
        "## Import Elasticsearch's needed librairies"
      ],
      "metadata": {
        "id": "2f0r9fSjyeUW"
      }
    },
    {
      "cell_type": "code",
      "source": [
        "from elasticsearch import Elasticsearch, helpers\n",
        "import matplotlib.pyplot as plt"
      ],
      "metadata": {
        "id": "MXEhEb1Ax_6O"
      },
      "execution_count": null,
      "outputs": []
    },
    {
      "cell_type": "markdown",
      "source": [
        "## Create connection to Kibio.science's Elastiseach REST endpoint"
      ],
      "metadata": {
        "id": "-h3gXVbYBPNI"
      }
    },
    {
      "cell_type": "code",
      "source": [
        "es = Elasticsearch(\"http://es.kibio.science:80\", verify_certs=False, ssl_show_warn=False)\n",
        "es"
      ],
      "metadata": {
        "colab": {
          "base_uri": "https://localhost:8080/"
        },
        "id": "YPaVALVu9WrR",
        "outputId": "3cba27c0-061a-4229-f4a0-bc87a8368ab5"
      },
      "execution_count": null,
      "outputs": [
        {
          "output_type": "execute_result",
          "data": {
            "text/plain": [
              "<Elasticsearch([{'host': 'es.kibio.science', 'port': 80}])>"
            ]
          },
          "metadata": {},
          "execution_count": 3
        }
      ]
    },
    {
      "cell_type": "markdown",
      "source": [
        "## Dowload needed dataframes from Kibio.science using Elasticsearch's Eland librairy"
      ],
      "metadata": {
        "id": "BGK0We9s-yFL"
      }
    },
    {
      "cell_type": "code",
      "source": [
        "disease = ed.eland_to_pandas(ed.DataFrame(es_client= es, es_index_pattern='hetionet_disease_201811'))\n",
        "edges_disease_associates = ed.eland_to_pandas(ed.DataFrame(es_client= es, es_index_pattern='hetionet_edges_disease_associates'))\n",
        "gene = ed.eland_to_pandas(ed.DataFrame(es_client= es, es_index_pattern='hetionet_gene_201811'))\n",
        "edges_gene_interacts = ed.eland_to_pandas(ed.DataFrame(es_client= es, es_index_pattern='hetionet_edges_gene_interacts'))\n",
        "edges_gene_participates = ed.eland_to_pandas(ed.DataFrame(es_client= es, es_index_pattern='hetionet_edges_gene_participates'))\n",
        "biological_process = ed.eland_to_pandas(ed.DataFrame(es_client= es, es_index_pattern='hetionet_biological_process_201811'))\n",
        "edges_gene_regulates = ed.eland_to_pandas(ed.DataFrame(es_client= es, es_index_pattern='hetionet_edges_gene_regulates'))\n",
        "compound = ed.eland_to_pandas(ed.DataFrame(es_client= es, es_index_pattern='hetionet_compound_201811'))\n",
        "edges_compound_binds = ed.eland_to_pandas(ed.DataFrame(es_client= es, es_index_pattern='hetionet_edges_compound_binds'))\n",
        "\n"
      ],
      "metadata": {
        "id": "vHAhpjy99q27"
      },
      "execution_count": null,
      "outputs": []
    },
    {
      "cell_type": "markdown",
      "source": [
        "## Question 1"
      ],
      "metadata": {
        "id": "fIDP6r3P_MS1"
      }
    },
    {
      "cell_type": "code",
      "source": [
        "\n",
        "gene_regulates_gene = edges_gene_regulates[['@id', '@id_to']].groupby(['@id'],as_index=False).agg({'@id_to': lambda x: x.tolist()})\n",
        "gene_regulates_gene.columns = ['gene_1', 'gene_2_list']\n",
        "answer_question_1 = gene_regulates_gene[gene_regulates_gene['gene_2_list'].apply(len) > 15]\n",
        "\n",
        "answer_question_1"
      ],
      "metadata": {
        "id": "T_4cmBBI96A6"
      },
      "execution_count": null,
      "outputs": []
    },
    {
      "cell_type": "markdown",
      "source": [
        "## Question 2"
      ],
      "metadata": {
        "id": "J7_4TfiV_XuX"
      }
    },
    {
      "cell_type": "code",
      "source": [
        "compound_gene = pd.merge(compound[['@id', 'name']], edges_compound_binds[['@id','@id_to']], on='@id')\n",
        "compound_gene.columns = ['compound_id', 'compound_name', 'gene_id']\n",
        "\n",
        "compound_gene_disease = pd.merge(compound_gene, edges_disease_associates[['@id', '@id_to']], left_on='gene_id', right_on='@id_to').drop(['@id_to'], axis=1)\n",
        "compound_gene_disease.columns = ['compound_id', 'compound_name', 'gene_id', 'disease_id']\n",
        "\n",
        "compound_gene_disease = pd.merge(compound_gene_disease, disease[['@id','name']], left_on='disease_id', right_on='@id', how='inner').drop(['@id'], axis=1)\n",
        "compound_gene_disease.columns = ['compound_id', 'compound_name', 'gene_id', 'disease_id', 'disease_name']\n",
        "\n",
        "compound_gene_disease = compound_gene_disease.query('compound_name.str.contains(\"Valproic Acid\")').groupby(['disease_name'],as_index=False).agg({'gene_id': lambda x: x.tolist()})\n",
        "compound_gene_disease['num_of_genes'] = compound_gene_disease['gene_id'].str.len()\n",
        "\n",
        "answer_question_2 = compound_gene_disease.sort_values(by=['num_of_genes'], ascending=False).head(n=3)\n",
        "\n",
        "answer_question_2\n"
      ],
      "metadata": {
        "id": "53i3VsHy8DPu"
      },
      "execution_count": null,
      "outputs": []
    },
    {
      "cell_type": "markdown",
      "source": [
        "## Question 3"
      ],
      "metadata": {
        "id": "sgHE8hZF_r2V"
      }
    },
    {
      "cell_type": "code",
      "source": [
        "disease_gene1 = pd.merge(disease[['@id','name']], edges_disease_associates[['@id','@id_to']], on='@id')\n",
        "disease_gene1.columns = ['disease_id', 'disease_name', 'gene_1_id']\n",
        "\n",
        "disease_gene1_gene_2 = pd.merge(disease_gene1, edges_gene_interacts[['@id', '@id_to']], left_on = 'gene_1_id', right_on = '@id').drop(['@id'], axis=1)\n",
        "disease_gene1_gene_2.columns = ['disease_id', 'disease_name', 'gene_1_id', 'gene_2_id']\n",
        "\n",
        "disease_gene1_gene_2_process = pd.merge(disease_gene1_gene_2, edges_gene_participates[['@id', '@id_to']], left_on = 'gene_2_id', right_on = '@id').drop(['@id'], axis=1)\n",
        "disease_gene1_gene_2_process.columns = ['disease_id', 'disease_name', 'gene_1_id', 'gene_2_id', 'process_id']\n",
        "disease_gene1_gene_2_process = pd.merge(disease_gene1_gene_2_process, biological_process[['@id', 'name']], left_on = 'process_id', right_on = '@id').drop(['@id'], axis=1)\n",
        "disease_gene1_gene_2_process.columns = ['disease_id', 'disease_name', 'gene_1_id', 'gene_2_id', 'process_id', 'process_name']\n",
        "\n",
        "answer_question_3 = disease_gene1_gene_2_process.query('disease_name.str.contains(\"multiple sclerosis\") & process_name.str.contains(\"retina layer formation\")')\n",
        "\n",
        "answer_question_3"
      ],
      "metadata": {
        "id": "ybPpTBlbAbIN"
      },
      "execution_count": null,
      "outputs": []
    }
  ]
}